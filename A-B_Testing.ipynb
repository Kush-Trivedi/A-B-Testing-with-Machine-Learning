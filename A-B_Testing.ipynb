{
 "cells": [
  {
   "cell_type": "markdown",
   "id": "1572c570-1715-4c0b-909f-2d07e2bfcce3",
   "metadata": {},
   "source": [
    "<center><h2>A/B Testing with Machine Learning</h2></center>\n",
    "\n",
    "I was recently reading [Matt Dancho](https://www.linkedin.com/in/mattdancho/) of Business Science's A/B Testing with [Machine Learning - A Step-by-Step Tutorial](https://www.business-science.io/business/2019/03/11/ab-testing-machine-learning.html). I've always been intrigued by the concept of <b>A/B testing</b> and the potential influence it may have on businesses. The instruction is quite detailed, and Matt has thoroughly described each and every step. He has written down every choice he made while designing the answer.\n",
    "\n",
    "Despite the fact that the course is written in <b>R</b>, I was able to scram through his code and comprehend the principles fast because to my experience of Data Science. I owe it to Matt to bring together all of the important parts of the Data Science field and use them to solve problems.\n",
    "\n",
    "<b>I decided to try to duplicate the approach in Python and was successful. There are a few tiny variations in my implementation, but I believe they can be overlooked. Aside from cell annotations, I haven't gone through any of the processes because you should actually read the post I linked to.</b>"
   ]
  },
  {
   "cell_type": "markdown",
   "id": "8c8fcb3a-80fa-43ee-8393-0435d7f61a13",
   "metadata": {},
   "source": [
    "<center><h3>Table of Contents</h3></center>\n",
    "\n",
    "<h3> A/B Testing with Machine Learning</h3>\n",
    "\n",
    "* [Import Libraries & Files](#0)\n",
    "* [Data Loading](#1)\n",
    "* [Universal Basic Summary Function](#2)\n",
    "* [Control Data Summary](#3)\n",
    "* [Experiment Data Summary](#4)\n",
    "* [Data Wrangling](#5)\n",
    "* [Data Cleaning](#6)\n",
    "    * [Data Reordering](#7)\n",
    "* [Split Train and Test Data](#8)\n",
    "    * [Converting String to numbers](#9)\n",
    "    * [Train Data](#10)\n",
    "    * [Test Data](#11)\n",
    "* [Helper Function](#12)\n",
    "    * [Function for printing the evaluation scores related to a regression problem](#12)\n",
    "    * [Function for plotting the original values and values predicted by the model](#12)\n",
    "\n",
    "<h3> Model 1: Linear Reression</h3>\n",
    "\n",
    "* [Linear Regression Model](#13)\n",
    "    * [Metrics Predictions](#14)\n",
    "    * [Plotting the Prediction](#15)\n",
    "    * [Model Summary](#16)\n",
    "    * [p-Values](#17)\n",
    "    \n",
    "<h3> Model 2: Decision Tree</h3>\n",
    "\n",
    "* [Decision Tree](#18)\n",
    "    * [Metrics Predictions](#19)\n",
    "    * [Plotting the Prediction](#20)\n",
    "    * [Decission Tree Value Graph](#21)\n",
    "    \n",
    "<h3> Model 3:  XGBoost</h3>\n",
    "\n",
    "* [XGBoost](#22)\n",
    "    * [Setting Parameters](#23)\n",
    "    * [Fitting and Train the Model](#24)\n",
    "    * [Metrics Predictions](#25)\n",
    "    * [Plotting the Prediction](#26)   "
   ]
  },
  {
   "cell_type": "markdown",
   "id": "809fd4d5-a6c4-4811-b482-612350f54ab2",
   "metadata": {},
   "source": [
    "<a id=\"0\"></a> <br> \n",
    "# Importing Libraries & Files"
   ]
  },
  {
   "cell_type": "code",
   "execution_count": 1,
   "id": "b800f4ca-91b4-407e-92ec-e9bb4b4b787f",
   "metadata": {},
   "outputs": [
    {
     "name": "stdout",
     "output_type": "stream",
     "text": [
      "/Users/kushtrivedi/Downloads/A-B Testing/.DS_Store\n",
      "/Users/kushtrivedi/Downloads/A-B Testing/A-B_Testing.ipynb\n",
      "/Users/kushtrivedi/Downloads/A-B Testing/experiment_data.csv\n",
      "/Users/kushtrivedi/Downloads/A-B Testing/control_data.csv\n",
      "/Users/kushtrivedi/Downloads/A-B Testing/.ipynb_checkpoints/A-B_Testing-checkpoint.ipynb\n"
     ]
    }
   ],
   "source": [
    "import pandas as pd\n",
    "import numpy as np\n",
    "import matplotlib.pyplot as plt\n",
    "import seaborn as sns\n",
    "import sklearn.utils\n",
    "from sklearn.model_selection import train_test_split\n",
    "from sklearn.preprocessing import LabelEncoder\n",
    "from sklearn.metrics import mean_squared_error, r2_score, mean_absolute_error\n",
    "import statsmodels.api as sm\n",
    "from sklearn.tree import DecisionTreeRegressor\n",
    "from sklearn import tree\n",
    "import xgboost as xgb\n",
    "import os\n",
    "import warnings\n",
    "warnings.filterwarnings(\"ignore\")\n",
    "\n",
    "for dirname, _, filenames in os.walk('/Users/kushtrivedi/Downloads/A-B Testing/'):\n",
    "    for filename in filenames:\n",
    "        print(os.path.join(dirname, filename))"
   ]
  },
  {
   "cell_type": "markdown",
   "id": "4d0567b5-83d6-4e7c-9185-e9bfe5f53e99",
   "metadata": {},
   "source": [
    "<a id=\"1\"></a> <br> \n",
    "# Data Loading"
   ]
  },
  {
   "cell_type": "code",
   "execution_count": 2,
   "id": "4b49275a-cb5d-49bd-8a19-6bf920ba0b95",
   "metadata": {},
   "outputs": [],
   "source": [
    "controlData = pd.read_csv('/Users/kushtrivedi/Downloads/A-B Testing/control_data.csv')\n",
    "experimentData = pd.read_csv('/Users/kushtrivedi/Downloads/A-B Testing/experiment_data.csv')"
   ]
  },
  {
   "cell_type": "markdown",
   "id": "81b96d9e-14f5-4138-ac6c-72e8df60c572",
   "metadata": {},
   "source": [
    "<a id=\"2\"></a> <br> \n",
    "# Universal Basic Summary Function"
   ]
  },
  {
   "cell_type": "code",
   "execution_count": 3,
   "id": "681f89de-3f18-4b3d-94ee-73c4dd67cc27",
   "metadata": {},
   "outputs": [],
   "source": [
    "def basicSummary(dataFrameForSummary):\n",
    "    print(f'Shape : {dataFrameForSummary.shape}')\n",
    "    summary = pd.DataFrame(dataFrameForSummary.dtypes, columns=['Data Type'])\n",
    "    summary = summary.reset_index()\n",
    "    summary = summary.rename(columns={'index': 'Feature'})\n",
    "    summary['Num of Nulls'] = dataFrameForSummary.isnull().sum().values\n",
    "    summary['Num of Unique'] = dataFrameForSummary.nunique().values\n",
    "    summary['First Value'] = dataFrameForSummary.loc[0].values\n",
    "    summary['Second Value'] = dataFrameForSummary.loc[1].values\n",
    "    summary['Third Value'] = dataFrameForSummary.loc[2].values\n",
    "    summary['Fourth Value'] = dataFrameForSummary.loc[3].values\n",
    "    summary['Fifth Value'] = dataFrameForSummary.loc[4].values\n",
    "    return summary"
   ]
  },
  {
   "cell_type": "markdown",
   "id": "136f62c4-e691-4d74-87f5-2d67be35e061",
   "metadata": {},
   "source": [
    "<a id=\"3\"></a> <br> \n",
    "# Contorl Data Summary"
   ]
  },
  {
   "cell_type": "code",
   "execution_count": 4,
   "id": "02456094-2030-4fe2-abac-e3e5989c0e47",
   "metadata": {},
   "outputs": [
    {
     "name": "stdout",
     "output_type": "stream",
     "text": [
      "Shape : (37, 5)\n"
     ]
    },
    {
     "data": {
      "text/html": [
       "<div>\n",
       "<style scoped>\n",
       "    .dataframe tbody tr th:only-of-type {\n",
       "        vertical-align: middle;\n",
       "    }\n",
       "\n",
       "    .dataframe tbody tr th {\n",
       "        vertical-align: top;\n",
       "    }\n",
       "\n",
       "    .dataframe thead th {\n",
       "        text-align: right;\n",
       "    }\n",
       "</style>\n",
       "<table border=\"1\" class=\"dataframe\">\n",
       "  <thead>\n",
       "    <tr style=\"text-align: right;\">\n",
       "      <th></th>\n",
       "      <th>Feature</th>\n",
       "      <th>Data Type</th>\n",
       "      <th>Num of Nulls</th>\n",
       "      <th>Num of Unique</th>\n",
       "      <th>First Value</th>\n",
       "      <th>Second Value</th>\n",
       "      <th>Third Value</th>\n",
       "      <th>Fourth Value</th>\n",
       "      <th>Fifth Value</th>\n",
       "    </tr>\n",
       "  </thead>\n",
       "  <tbody>\n",
       "    <tr>\n",
       "      <th>0</th>\n",
       "      <td>Date</td>\n",
       "      <td>object</td>\n",
       "      <td>0</td>\n",
       "      <td>37</td>\n",
       "      <td>Sat, Oct 11</td>\n",
       "      <td>Sun, Oct 12</td>\n",
       "      <td>Mon, Oct 13</td>\n",
       "      <td>Tue, Oct 14</td>\n",
       "      <td>Wed, Oct 15</td>\n",
       "    </tr>\n",
       "    <tr>\n",
       "      <th>1</th>\n",
       "      <td>Pageviews</td>\n",
       "      <td>int64</td>\n",
       "      <td>0</td>\n",
       "      <td>37</td>\n",
       "      <td>7723</td>\n",
       "      <td>9102</td>\n",
       "      <td>10511</td>\n",
       "      <td>9871</td>\n",
       "      <td>10014</td>\n",
       "    </tr>\n",
       "    <tr>\n",
       "      <th>2</th>\n",
       "      <td>Clicks</td>\n",
       "      <td>int64</td>\n",
       "      <td>0</td>\n",
       "      <td>34</td>\n",
       "      <td>687</td>\n",
       "      <td>779</td>\n",
       "      <td>909</td>\n",
       "      <td>836</td>\n",
       "      <td>837</td>\n",
       "    </tr>\n",
       "    <tr>\n",
       "      <th>3</th>\n",
       "      <td>Enrollments</td>\n",
       "      <td>float64</td>\n",
       "      <td>14</td>\n",
       "      <td>20</td>\n",
       "      <td>134.0</td>\n",
       "      <td>147.0</td>\n",
       "      <td>167.0</td>\n",
       "      <td>156.0</td>\n",
       "      <td>163.0</td>\n",
       "    </tr>\n",
       "    <tr>\n",
       "      <th>4</th>\n",
       "      <td>Payments</td>\n",
       "      <td>float64</td>\n",
       "      <td>14</td>\n",
       "      <td>20</td>\n",
       "      <td>70.0</td>\n",
       "      <td>70.0</td>\n",
       "      <td>95.0</td>\n",
       "      <td>105.0</td>\n",
       "      <td>64.0</td>\n",
       "    </tr>\n",
       "  </tbody>\n",
       "</table>\n",
       "</div>"
      ],
      "text/plain": [
       "       Feature Data Type  Num of Nulls  Num of Unique  First Value  \\\n",
       "0         Date    object             0             37  Sat, Oct 11   \n",
       "1    Pageviews     int64             0             37         7723   \n",
       "2       Clicks     int64             0             34          687   \n",
       "3  Enrollments   float64            14             20        134.0   \n",
       "4     Payments   float64            14             20         70.0   \n",
       "\n",
       "  Second Value  Third Value Fourth Value  Fifth Value  \n",
       "0  Sun, Oct 12  Mon, Oct 13  Tue, Oct 14  Wed, Oct 15  \n",
       "1         9102        10511         9871        10014  \n",
       "2          779          909          836          837  \n",
       "3        147.0        167.0        156.0        163.0  \n",
       "4         70.0         95.0        105.0         64.0  "
      ]
     },
     "execution_count": 4,
     "metadata": {},
     "output_type": "execute_result"
    }
   ],
   "source": [
    "basicSummary(controlData)"
   ]
  },
  {
   "cell_type": "markdown",
   "id": "31da45b9-4d33-42fe-b34c-7ac57d03329a",
   "metadata": {},
   "source": [
    "<a id=\"4\"></a> <br> \n",
    "# Experiment Data Summary"
   ]
  },
  {
   "cell_type": "code",
   "execution_count": 5,
   "id": "d1c8c95a-52d8-4415-98be-50a87ed0f944",
   "metadata": {},
   "outputs": [
    {
     "name": "stdout",
     "output_type": "stream",
     "text": [
      "Shape : (37, 5)\n"
     ]
    },
    {
     "data": {
      "text/html": [
       "<div>\n",
       "<style scoped>\n",
       "    .dataframe tbody tr th:only-of-type {\n",
       "        vertical-align: middle;\n",
       "    }\n",
       "\n",
       "    .dataframe tbody tr th {\n",
       "        vertical-align: top;\n",
       "    }\n",
       "\n",
       "    .dataframe thead th {\n",
       "        text-align: right;\n",
       "    }\n",
       "</style>\n",
       "<table border=\"1\" class=\"dataframe\">\n",
       "  <thead>\n",
       "    <tr style=\"text-align: right;\">\n",
       "      <th></th>\n",
       "      <th>Feature</th>\n",
       "      <th>Data Type</th>\n",
       "      <th>Num of Nulls</th>\n",
       "      <th>Num of Unique</th>\n",
       "      <th>First Value</th>\n",
       "      <th>Second Value</th>\n",
       "      <th>Third Value</th>\n",
       "      <th>Fourth Value</th>\n",
       "      <th>Fifth Value</th>\n",
       "    </tr>\n",
       "  </thead>\n",
       "  <tbody>\n",
       "    <tr>\n",
       "      <th>0</th>\n",
       "      <td>Date</td>\n",
       "      <td>object</td>\n",
       "      <td>0</td>\n",
       "      <td>37</td>\n",
       "      <td>Sat, Oct 11</td>\n",
       "      <td>Sun, Oct 12</td>\n",
       "      <td>Mon, Oct 13</td>\n",
       "      <td>Tue, Oct 14</td>\n",
       "      <td>Wed, Oct 15</td>\n",
       "    </tr>\n",
       "    <tr>\n",
       "      <th>1</th>\n",
       "      <td>Pageviews</td>\n",
       "      <td>int64</td>\n",
       "      <td>0</td>\n",
       "      <td>37</td>\n",
       "      <td>7716</td>\n",
       "      <td>9288</td>\n",
       "      <td>10480</td>\n",
       "      <td>9867</td>\n",
       "      <td>9793</td>\n",
       "    </tr>\n",
       "    <tr>\n",
       "      <th>2</th>\n",
       "      <td>Clicks</td>\n",
       "      <td>int64</td>\n",
       "      <td>0</td>\n",
       "      <td>34</td>\n",
       "      <td>686</td>\n",
       "      <td>785</td>\n",
       "      <td>884</td>\n",
       "      <td>827</td>\n",
       "      <td>832</td>\n",
       "    </tr>\n",
       "    <tr>\n",
       "      <th>3</th>\n",
       "      <td>Enrollments</td>\n",
       "      <td>float64</td>\n",
       "      <td>14</td>\n",
       "      <td>20</td>\n",
       "      <td>105.0</td>\n",
       "      <td>116.0</td>\n",
       "      <td>145.0</td>\n",
       "      <td>138.0</td>\n",
       "      <td>140.0</td>\n",
       "    </tr>\n",
       "    <tr>\n",
       "      <th>4</th>\n",
       "      <td>Payments</td>\n",
       "      <td>float64</td>\n",
       "      <td>14</td>\n",
       "      <td>22</td>\n",
       "      <td>34.0</td>\n",
       "      <td>91.0</td>\n",
       "      <td>79.0</td>\n",
       "      <td>92.0</td>\n",
       "      <td>94.0</td>\n",
       "    </tr>\n",
       "  </tbody>\n",
       "</table>\n",
       "</div>"
      ],
      "text/plain": [
       "       Feature Data Type  Num of Nulls  Num of Unique  First Value  \\\n",
       "0         Date    object             0             37  Sat, Oct 11   \n",
       "1    Pageviews     int64             0             37         7716   \n",
       "2       Clicks     int64             0             34          686   \n",
       "3  Enrollments   float64            14             20        105.0   \n",
       "4     Payments   float64            14             22         34.0   \n",
       "\n",
       "  Second Value  Third Value Fourth Value  Fifth Value  \n",
       "0  Sun, Oct 12  Mon, Oct 13  Tue, Oct 14  Wed, Oct 15  \n",
       "1         9288        10480         9867         9793  \n",
       "2          785          884          827          832  \n",
       "3        116.0        145.0        138.0        140.0  \n",
       "4         91.0         79.0         92.0         94.0  "
      ]
     },
     "execution_count": 5,
     "metadata": {},
     "output_type": "execute_result"
    }
   ],
   "source": [
    "basicSummary(experimentData)"
   ]
  },
  {
   "cell_type": "markdown",
   "id": "1077c485-5b29-4023-9490-074b7480875e",
   "metadata": {},
   "source": [
    "<a id=\"5\"></a> <br> \n",
    "# Data Wrangling"
   ]
  },
  {
   "cell_type": "code",
   "execution_count": 6,
   "id": "b4119f6e-fb79-4db2-aea1-c7b565929682",
   "metadata": {},
   "outputs": [
    {
     "data": {
      "text/html": [
       "<div>\n",
       "<style scoped>\n",
       "    .dataframe tbody tr th:only-of-type {\n",
       "        vertical-align: middle;\n",
       "    }\n",
       "\n",
       "    .dataframe tbody tr th {\n",
       "        vertical-align: top;\n",
       "    }\n",
       "\n",
       "    .dataframe thead th {\n",
       "        text-align: right;\n",
       "    }\n",
       "</style>\n",
       "<table border=\"1\" class=\"dataframe\">\n",
       "  <thead>\n",
       "    <tr style=\"text-align: right;\">\n",
       "      <th></th>\n",
       "      <th>Date</th>\n",
       "      <th>Pageviews</th>\n",
       "      <th>Clicks</th>\n",
       "      <th>Enrollments</th>\n",
       "      <th>Payments</th>\n",
       "    </tr>\n",
       "  </thead>\n",
       "  <tbody>\n",
       "    <tr>\n",
       "      <th>14</th>\n",
       "      <td>Sat, Oct 25</td>\n",
       "      <td>8669</td>\n",
       "      <td>669</td>\n",
       "      <td>127.0</td>\n",
       "      <td>81.0</td>\n",
       "    </tr>\n",
       "    <tr>\n",
       "      <th>27</th>\n",
       "      <td>Fri, Nov 7</td>\n",
       "      <td>9424</td>\n",
       "      <td>781</td>\n",
       "      <td>NaN</td>\n",
       "      <td>NaN</td>\n",
       "    </tr>\n",
       "    <tr>\n",
       "      <th>29</th>\n",
       "      <td>Sun, Nov 9</td>\n",
       "      <td>9656</td>\n",
       "      <td>825</td>\n",
       "      <td>NaN</td>\n",
       "      <td>NaN</td>\n",
       "    </tr>\n",
       "    <tr>\n",
       "      <th>10</th>\n",
       "      <td>Tue, Oct 21</td>\n",
       "      <td>10660</td>\n",
       "      <td>867</td>\n",
       "      <td>196.0</td>\n",
       "      <td>105.0</td>\n",
       "    </tr>\n",
       "    <tr>\n",
       "      <th>16</th>\n",
       "      <td>Mon, Oct 27</td>\n",
       "      <td>9655</td>\n",
       "      <td>771</td>\n",
       "      <td>213.0</td>\n",
       "      <td>119.0</td>\n",
       "    </tr>\n",
       "    <tr>\n",
       "      <th>23</th>\n",
       "      <td>Mon, Nov 3</td>\n",
       "      <td>9437</td>\n",
       "      <td>788</td>\n",
       "      <td>NaN</td>\n",
       "      <td>NaN</td>\n",
       "    </tr>\n",
       "    <tr>\n",
       "      <th>25</th>\n",
       "      <td>Wed, Nov 5</td>\n",
       "      <td>9633</td>\n",
       "      <td>808</td>\n",
       "      <td>NaN</td>\n",
       "      <td>NaN</td>\n",
       "    </tr>\n",
       "    <tr>\n",
       "      <th>33</th>\n",
       "      <td>Thu, Nov 13</td>\n",
       "      <td>9717</td>\n",
       "      <td>814</td>\n",
       "      <td>NaN</td>\n",
       "      <td>NaN</td>\n",
       "    </tr>\n",
       "    <tr>\n",
       "      <th>13</th>\n",
       "      <td>Fri, Oct 24</td>\n",
       "      <td>9434</td>\n",
       "      <td>673</td>\n",
       "      <td>220.0</td>\n",
       "      <td>122.0</td>\n",
       "    </tr>\n",
       "    <tr>\n",
       "      <th>8</th>\n",
       "      <td>Sun, Oct 19</td>\n",
       "      <td>8434</td>\n",
       "      <td>697</td>\n",
       "      <td>120.0</td>\n",
       "      <td>77.0</td>\n",
       "    </tr>\n",
       "  </tbody>\n",
       "</table>\n",
       "</div>"
      ],
      "text/plain": [
       "           Date  Pageviews  Clicks  Enrollments  Payments\n",
       "14  Sat, Oct 25       8669     669        127.0      81.0\n",
       "27   Fri, Nov 7       9424     781          NaN       NaN\n",
       "29   Sun, Nov 9       9656     825          NaN       NaN\n",
       "10  Tue, Oct 21      10660     867        196.0     105.0\n",
       "16  Mon, Oct 27       9655     771        213.0     119.0\n",
       "23   Mon, Nov 3       9437     788          NaN       NaN\n",
       "25   Wed, Nov 5       9633     808          NaN       NaN\n",
       "33  Thu, Nov 13       9717     814          NaN       NaN\n",
       "13  Fri, Oct 24       9434     673        220.0     122.0\n",
       "8   Sun, Oct 19       8434     697        120.0      77.0"
      ]
     },
     "execution_count": 6,
     "metadata": {},
     "output_type": "execute_result"
    }
   ],
   "source": [
    "# Combine with Experiment data\n",
    "combineControlAndExperimentData = pd.concat([controlData, experimentData])\n",
    "combineControlAndExperimentData.sample(10)"
   ]
  },
  {
   "cell_type": "markdown",
   "id": "7f39c45f",
   "metadata": {},
   "source": [
    "<a id=\"6\"></a> <br> \n",
    "# Data Cleaning"
   ]
  },
  {
   "cell_type": "code",
   "execution_count": 7,
   "id": "ffd16672-67be-4908-9e11-7d4775c595b3",
   "metadata": {},
   "outputs": [
    {
     "data": {
      "text/html": [
       "<div>\n",
       "<style scoped>\n",
       "    .dataframe tbody tr th:only-of-type {\n",
       "        vertical-align: middle;\n",
       "    }\n",
       "\n",
       "    .dataframe tbody tr th {\n",
       "        vertical-align: top;\n",
       "    }\n",
       "\n",
       "    .dataframe thead th {\n",
       "        text-align: right;\n",
       "    }\n",
       "</style>\n",
       "<table border=\"1\" class=\"dataframe\">\n",
       "  <thead>\n",
       "    <tr style=\"text-align: right;\">\n",
       "      <th></th>\n",
       "      <th>Pageviews</th>\n",
       "      <th>Clicks</th>\n",
       "      <th>Enrollments</th>\n",
       "      <th>Row Id</th>\n",
       "      <th>DayOfWeek</th>\n",
       "      <th>Experiment</th>\n",
       "    </tr>\n",
       "  </thead>\n",
       "  <tbody>\n",
       "    <tr>\n",
       "      <th>21</th>\n",
       "      <td>8460</td>\n",
       "      <td>681</td>\n",
       "      <td>156.0</td>\n",
       "      <td>21</td>\n",
       "      <td>Sat</td>\n",
       "      <td>0</td>\n",
       "    </tr>\n",
       "    <tr>\n",
       "      <th>3</th>\n",
       "      <td>9867</td>\n",
       "      <td>827</td>\n",
       "      <td>138.0</td>\n",
       "      <td>3</td>\n",
       "      <td>Tue</td>\n",
       "      <td>1</td>\n",
       "    </tr>\n",
       "    <tr>\n",
       "      <th>21</th>\n",
       "      <td>8448</td>\n",
       "      <td>695</td>\n",
       "      <td>142.0</td>\n",
       "      <td>21</td>\n",
       "      <td>Sat</td>\n",
       "      <td>0</td>\n",
       "    </tr>\n",
       "    <tr>\n",
       "      <th>13</th>\n",
       "      <td>9434</td>\n",
       "      <td>673</td>\n",
       "      <td>220.0</td>\n",
       "      <td>13</td>\n",
       "      <td>Fri</td>\n",
       "      <td>1</td>\n",
       "    </tr>\n",
       "    <tr>\n",
       "      <th>6</th>\n",
       "      <td>9008</td>\n",
       "      <td>748</td>\n",
       "      <td>146.0</td>\n",
       "      <td>6</td>\n",
       "      <td>Fri</td>\n",
       "      <td>1</td>\n",
       "    </tr>\n",
       "  </tbody>\n",
       "</table>\n",
       "</div>"
      ],
      "text/plain": [
       "    Pageviews  Clicks  Enrollments  Row Id DayOfWeek  Experiment\n",
       "21       8460     681        156.0      21       Sat           0\n",
       "3        9867     827        138.0       3       Tue           1\n",
       "21       8448     695        142.0      21       Sat           0\n",
       "13       9434     673        220.0      13       Fri           1\n",
       "6        9008     748        146.0       6       Fri           1"
      ]
     },
     "execution_count": 7,
     "metadata": {},
     "output_type": "execute_result"
    }
   ],
   "source": [
    "np.random.seed(7)\n",
    "\n",
    "# Add row id\n",
    "combineControlAndExperimentData['Row Id'] = combineControlAndExperimentData.index\n",
    "\n",
    "# Create a Day of Week feature\n",
    "combineControlAndExperimentData['DayOfWeek'] = combineControlAndExperimentData['Date'].str.slice(start=0, stop=3)\n",
    "\n",
    "# Remove missing data\n",
    "combineControlAndExperimentData.dropna(inplace=True)\n",
    "\n",
    "# Add a binary column Experiment to denote\n",
    "# if the data was part of the experiment or not (Random)\n",
    "combineControlAndExperimentData['Experiment'] = np.random.randint(2, size=len(combineControlAndExperimentData))\n",
    "\n",
    "# Remove missing data\n",
    "combineControlAndExperimentData.dropna(inplace=True)\n",
    "\n",
    "# Remove Date and Payments columns\n",
    "del combineControlAndExperimentData['Date'], combineControlAndExperimentData['Payments']\n",
    "\n",
    "# Shuffle the data\n",
    "combineControlAndExperimentData = sklearn.utils.shuffle(combineControlAndExperimentData)\n",
    "\n",
    "# Check the new data\n",
    "combineControlAndExperimentData.head()"
   ]
  },
  {
   "cell_type": "markdown",
   "id": "ed470fea",
   "metadata": {},
   "source": [
    "<p id='7'><b><li>Data Reordering</li></b></p>"
   ]
  },
  {
   "cell_type": "code",
   "execution_count": 8,
   "id": "f0322bfe-7c1b-4198-a20a-f7dc23ab2602",
   "metadata": {},
   "outputs": [],
   "source": [
    "# Reorder the columns \n",
    "combineControlAndExperimentData = combineControlAndExperimentData[['Row Id', 'Experiment', 'Pageviews', \n",
    "                                                                   'Clicks', 'DayOfWeek', 'Enrollments']]\n",
    "combineControlAndExperimentData.rename({'Pageviews': 'Page Views'}, axis=1, inplace=True)"
   ]
  },
  {
   "cell_type": "markdown",
   "id": "7479cde8",
   "metadata": {},
   "source": [
    "<a id=\"8\"></a> <br> \n",
    "# Split Train and Test Data"
   ]
  },
  {
   "cell_type": "code",
   "execution_count": 9,
   "id": "0ce8c385-dc03-471a-8513-456f24f08f0e",
   "metadata": {},
   "outputs": [],
   "source": [
    "# Splitting the data\n",
    "X_train, X_test, y_train, y_test = train_test_split(\n",
    "    combineControlAndExperimentData.loc[:, combineControlAndExperimentData.columns != 'Enrollments'],\n",
    "    combineControlAndExperimentData['Enrollments'], test_size=0.2)"
   ]
  },
  {
   "cell_type": "markdown",
   "id": "5db8484b",
   "metadata": {},
   "source": [
    "<p id='9'><b><li>Converting String to numbers</li></b></p>"
   ]
  },
  {
   "cell_type": "code",
   "execution_count": 10,
   "id": "37635ec1-9380-423e-8042-3528c24d0453",
   "metadata": {},
   "outputs": [],
   "source": [
    "# Converting strings to numbers\n",
    "labelEncoder = LabelEncoder()\n",
    "X_train['DayOfWeek'] = labelEncoder.fit_transform(X_train['DayOfWeek'])\n",
    "X_test['DayOfWeek'] = labelEncoder.transform(X_test['DayOfWeek'])"
   ]
  },
  {
   "cell_type": "markdown",
   "id": "07e413be",
   "metadata": {},
   "source": [
    "<p id='10'><b><li>Train Data</li></b></p>"
   ]
  },
  {
   "cell_type": "code",
   "execution_count": 11,
   "id": "37908f26-195a-43a2-a4d9-8889048cbee1",
   "metadata": {},
   "outputs": [
    {
     "data": {
      "text/html": [
       "<div>\n",
       "<style scoped>\n",
       "    .dataframe tbody tr th:only-of-type {\n",
       "        vertical-align: middle;\n",
       "    }\n",
       "\n",
       "    .dataframe tbody tr th {\n",
       "        vertical-align: top;\n",
       "    }\n",
       "\n",
       "    .dataframe thead th {\n",
       "        text-align: right;\n",
       "    }\n",
       "</style>\n",
       "<table border=\"1\" class=\"dataframe\">\n",
       "  <thead>\n",
       "    <tr style=\"text-align: right;\">\n",
       "      <th></th>\n",
       "      <th>Row Id</th>\n",
       "      <th>Experiment</th>\n",
       "      <th>Page Views</th>\n",
       "      <th>Clicks</th>\n",
       "      <th>DayOfWeek</th>\n",
       "    </tr>\n",
       "  </thead>\n",
       "  <tbody>\n",
       "    <tr>\n",
       "      <th>16</th>\n",
       "      <td>16</td>\n",
       "      <td>0</td>\n",
       "      <td>9535</td>\n",
       "      <td>759</td>\n",
       "      <td>1</td>\n",
       "    </tr>\n",
       "    <tr>\n",
       "      <th>10</th>\n",
       "      <td>10</td>\n",
       "      <td>1</td>\n",
       "      <td>10551</td>\n",
       "      <td>864</td>\n",
       "      <td>5</td>\n",
       "    </tr>\n",
       "    <tr>\n",
       "      <th>2</th>\n",
       "      <td>2</td>\n",
       "      <td>0</td>\n",
       "      <td>10480</td>\n",
       "      <td>884</td>\n",
       "      <td>1</td>\n",
       "    </tr>\n",
       "    <tr>\n",
       "      <th>3</th>\n",
       "      <td>3</td>\n",
       "      <td>1</td>\n",
       "      <td>9867</td>\n",
       "      <td>827</td>\n",
       "      <td>5</td>\n",
       "    </tr>\n",
       "    <tr>\n",
       "      <th>16</th>\n",
       "      <td>16</td>\n",
       "      <td>0</td>\n",
       "      <td>9655</td>\n",
       "      <td>771</td>\n",
       "      <td>1</td>\n",
       "    </tr>\n",
       "  </tbody>\n",
       "</table>\n",
       "</div>"
      ],
      "text/plain": [
       "    Row Id  Experiment  Page Views  Clicks  DayOfWeek\n",
       "16      16           0        9535     759          1\n",
       "10      10           1       10551     864          5\n",
       "2        2           0       10480     884          1\n",
       "3        3           1        9867     827          5\n",
       "16      16           0        9655     771          1"
      ]
     },
     "execution_count": 11,
     "metadata": {},
     "output_type": "execute_result"
    }
   ],
   "source": [
    "X_train.head()"
   ]
  },
  {
   "cell_type": "markdown",
   "id": "57780acd",
   "metadata": {},
   "source": [
    "<p id='11'><b><li>Test Data</li></b></p>"
   ]
  },
  {
   "cell_type": "code",
   "execution_count": 12,
   "id": "47270bbe-bd0c-4f25-ad93-42ab271095a5",
   "metadata": {},
   "outputs": [
    {
     "data": {
      "text/html": [
       "<div>\n",
       "<style scoped>\n",
       "    .dataframe tbody tr th:only-of-type {\n",
       "        vertical-align: middle;\n",
       "    }\n",
       "\n",
       "    .dataframe tbody tr th {\n",
       "        vertical-align: top;\n",
       "    }\n",
       "\n",
       "    .dataframe thead th {\n",
       "        text-align: right;\n",
       "    }\n",
       "</style>\n",
       "<table border=\"1\" class=\"dataframe\">\n",
       "  <thead>\n",
       "    <tr style=\"text-align: right;\">\n",
       "      <th></th>\n",
       "      <th>Row Id</th>\n",
       "      <th>Experiment</th>\n",
       "      <th>Page Views</th>\n",
       "      <th>Clicks</th>\n",
       "      <th>DayOfWeek</th>\n",
       "    </tr>\n",
       "  </thead>\n",
       "  <tbody>\n",
       "    <tr>\n",
       "      <th>12</th>\n",
       "      <td>12</td>\n",
       "      <td>0</td>\n",
       "      <td>8324</td>\n",
       "      <td>665</td>\n",
       "      <td>4</td>\n",
       "    </tr>\n",
       "    <tr>\n",
       "      <th>18</th>\n",
       "      <td>18</td>\n",
       "      <td>1</td>\n",
       "      <td>9262</td>\n",
       "      <td>727</td>\n",
       "      <td>6</td>\n",
       "    </tr>\n",
       "    <tr>\n",
       "      <th>1</th>\n",
       "      <td>1</td>\n",
       "      <td>0</td>\n",
       "      <td>9288</td>\n",
       "      <td>785</td>\n",
       "      <td>3</td>\n",
       "    </tr>\n",
       "    <tr>\n",
       "      <th>1</th>\n",
       "      <td>1</td>\n",
       "      <td>0</td>\n",
       "      <td>9102</td>\n",
       "      <td>779</td>\n",
       "      <td>3</td>\n",
       "    </tr>\n",
       "    <tr>\n",
       "      <th>19</th>\n",
       "      <td>19</td>\n",
       "      <td>0</td>\n",
       "      <td>9345</td>\n",
       "      <td>734</td>\n",
       "      <td>4</td>\n",
       "    </tr>\n",
       "  </tbody>\n",
       "</table>\n",
       "</div>"
      ],
      "text/plain": [
       "    Row Id  Experiment  Page Views  Clicks  DayOfWeek\n",
       "12      12           0        8324     665          4\n",
       "18      18           1        9262     727          6\n",
       "1        1           0        9288     785          3\n",
       "1        1           0        9102     779          3\n",
       "19      19           0        9345     734          4"
      ]
     },
     "execution_count": 12,
     "metadata": {},
     "output_type": "execute_result"
    }
   ],
   "source": [
    "X_test.head()"
   ]
  },
  {
   "cell_type": "markdown",
   "id": "5ed83cf2-2ae6-46a3-85d6-829086b92fdd",
   "metadata": {},
   "source": [
    "<a id=\"12\"></a> <br> \n",
    "# Helper functions\n",
    "\n",
    "* Function for printing the evaluation scores related to a regression problem\n",
    "* Function for plotting the original values and values predicted by the model"
   ]
  },
  {
   "cell_type": "code",
   "execution_count": 13,
   "id": "dec19e2f-1ede-45d5-8067-1d3a1360b646",
   "metadata": {},
   "outputs": [],
   "source": [
    "# Function for printing the evaluation scores related to a regression problem\n",
    "def calculateMetrics(y_test, y_preds):\n",
    "    rmse = np.sqrt(mean_squared_error(y_test, y_preds))\n",
    "    r_sq = r2_score(y_test, y_preds)\n",
    "    mae = mean_absolute_error(y_test, y_preds)\n",
    "\n",
    "    print('RMSE Score: {}'.format(rmse))\n",
    "    print('R2_Squared: {}'.format(r_sq))\n",
    "    print('MAE Score: {}'.format(mae))\n",
    "    \n",
    "# Function for plotting the original values and values predicted by the model    \n",
    "plt.style.use('ggplot')\n",
    "%matplotlib inline\n",
    "def plotPredcitions(y_test, y_preds, model_name):\n",
    "    N = len(y_test)\n",
    "    plt.figure(figsize=(15,10))\n",
    "    original = plt.scatter(np.arange(1, N+1), y_test, c='blue',s=80)\n",
    "    prediction = plt.scatter(np.arange(1, N+1), y_preds, c='red',s=80)\n",
    "    plt.xticks(np.arange(1, N+1))\n",
    "    plt.xlabel('Oberservations',fontweight=\"bold\")\n",
    "    plt.ylabel('Enrollments',fontweight=\"bold\")\n",
    "    title = 'True labels vs. Predicted Labels ({})'.format(model_name)\n",
    "    plt.title(title)\n",
    "    plt.legend((original, prediction), ('Original', 'Prediction'))\n",
    "    plt.show()"
   ]
  },
  {
   "cell_type": "markdown",
   "id": "7f929c4c",
   "metadata": {},
   "source": [
    "<a id=\"13\"></a> <br> \n",
    "# Model 1: Linear Regression"
   ]
  },
  {
   "cell_type": "code",
   "execution_count": 14,
   "id": "7fe4794c-8cc0-4a38-9055-e9c9ca99b7fb",
   "metadata": {},
   "outputs": [],
   "source": [
    "# Fitting the model\n",
    "X_train_refined = X_train.drop(columns=['Row Id'], axis=1)\n",
    "linearRegression = sm.OLS(y_train, X_train_refined)\n",
    "linearRegression = linearRegression.fit()\n",
    "\n",
    "# Predicting the model\n",
    "X_test_refined = X_test.drop(columns=['Row Id'], axis=1)\n",
    "y_preds = linearRegression.predict(X_test_refined)"
   ]
  },
  {
   "cell_type": "markdown",
   "id": "dc827151",
   "metadata": {},
   "source": [
    "<p id= '14'><b><li>Metrics Predictions</li></b></p>"
   ]
  },
  {
   "cell_type": "code",
   "execution_count": 15,
   "id": "089ef250-f1aa-4bd4-b3e6-737d14df0f1b",
   "metadata": {},
   "outputs": [
    {
     "name": "stdout",
     "output_type": "stream",
     "text": [
      "RMSE Score: 23.988871314039855\n",
      "R2_Squared: 0.05095001827039325\n",
      "MAE Score: 19.586061838775088\n"
     ]
    }
   ],
   "source": [
    "calculateMetrics(y_test, y_preds)"
   ]
  },
  {
   "cell_type": "markdown",
   "id": "37964c29",
   "metadata": {},
   "source": [
    "<p id= '15'><b><li>Plotting the Prediction</li></b></p>"
   ]
  },
  {
   "cell_type": "code",
   "execution_count": 16,
   "id": "70bacf90-dd12-46dc-8596-88d9baea429c",
   "metadata": {},
   "outputs": [
    {
     "data": {
      "image/png": "[encoded data removed]",
      "text/plain": [
       "<Figure size 1080x720 with 1 Axes>"
      ]
     },
     "metadata": {
      "needs_background": "light"
     },
     "output_type": "display_data"
    }
   ],
   "source": [
    "plotPredcitions(y_test, y_preds, 'Linear Regression')"
   ]
  },
  {
   "cell_type": "markdown",
   "id": "dc26d38e",
   "metadata": {},
   "source": [
    "<p id= '16'><b><li>Model Summary</li></b></p>"
   ]
  },
  {
   "cell_type": "code",
   "execution_count": 17,
   "id": "b8121ddf-042b-4373-8391-a03ea7fd8ad4",
   "metadata": {},
   "outputs": [
    {
     "name": "stdout",
     "output_type": "stream",
     "text": [
      "                                 OLS Regression Results                                \n",
      "=======================================================================================\n",
      "Dep. Variable:            Enrollments   R-squared (uncentered):                   0.980\n",
      "Model:                            OLS   Adj. R-squared (uncentered):              0.978\n",
      "Method:                 Least Squares   F-statistic:                              400.1\n",
      "Date:                Thu, 06 Jan 2022   Prob (F-statistic):                    7.92e-27\n",
      "Time:                        23:34:45   Log-Likelihood:                         -163.65\n",
      "No. Observations:                  36   AIC:                                      335.3\n",
      "Df Residuals:                      32   BIC:                                      341.6\n",
      "Df Model:                           4                                                  \n",
      "Covariance Type:            nonrobust                                                  \n",
      "==============================================================================\n",
      "                 coef    std err          t      P>|t|      [0.025      0.975]\n",
      "------------------------------------------------------------------------------\n",
      "Experiment    -1.4515      8.373     -0.173      0.863     -18.506      15.603\n",
      "Page Views     0.0672      0.010      6.593      0.000       0.046       0.088\n",
      "Clicks        -0.6022      0.126     -4.776      0.000      -0.859      -0.345\n",
      "DayOfWeek     -2.6156      2.137     -1.224      0.230      -6.969       1.738\n",
      "==============================================================================\n",
      "Omnibus:                        3.688   Durbin-Watson:                   2.146\n",
      "Prob(Omnibus):                  0.158   Jarque-Bera (JB):                2.538\n",
      "Skew:                           0.475   Prob(JB):                        0.281\n",
      "Kurtosis:                       2.112   Cond. No.                     1.95e+04\n",
      "==============================================================================\n",
      "\n",
      "Notes:\n",
      "[1] R² is computed without centering (uncentered) since the model does not contain a constant.\n",
      "[2] Standard Errors assume that the covariance matrix of the errors is correctly specified.\n",
      "[3] The condition number is large, 1.95e+04. This might indicate that there are\n",
      "strong multicollinearity or other numerical problems.\n"
     ]
    }
   ],
   "source": [
    "print(linearRegression.summary())"
   ]
  },
  {
   "cell_type": "markdown",
   "id": "e41abb39",
   "metadata": {},
   "source": [
    "<p id= '17'><b><li>p-Values</li></b></p>"
   ]
  },
  {
   "cell_type": "code",
   "execution_count": 18,
   "id": "8e480e3e-2d91-4b46-9166-c218a2438aa7",
   "metadata": {},
   "outputs": [
    {
     "data": {
      "text/html": [
       "<div>\n",
       "<style scoped>\n",
       "    .dataframe tbody tr th:only-of-type {\n",
       "        vertical-align: middle;\n",
       "    }\n",
       "\n",
       "    .dataframe tbody tr th {\n",
       "        vertical-align: top;\n",
       "    }\n",
       "\n",
       "    .dataframe thead th {\n",
       "        text-align: right;\n",
       "    }\n",
       "</style>\n",
       "<table border=\"1\" class=\"dataframe\">\n",
       "  <thead>\n",
       "    <tr style=\"text-align: right;\">\n",
       "      <th></th>\n",
       "      <th>Terms</th>\n",
       "      <th>p_value</th>\n",
       "    </tr>\n",
       "  </thead>\n",
       "  <tbody>\n",
       "    <tr>\n",
       "      <th>1</th>\n",
       "      <td>Page Views</td>\n",
       "      <td>1.974764e-07</td>\n",
       "    </tr>\n",
       "    <tr>\n",
       "      <th>2</th>\n",
       "      <td>Clicks</td>\n",
       "      <td>3.804647e-05</td>\n",
       "    </tr>\n",
       "    <tr>\n",
       "      <th>3</th>\n",
       "      <td>DayOfWeek</td>\n",
       "      <td>2.299762e-01</td>\n",
       "    </tr>\n",
       "    <tr>\n",
       "      <th>0</th>\n",
       "      <td>Experiment</td>\n",
       "      <td>8.634578e-01</td>\n",
       "    </tr>\n",
       "  </tbody>\n",
       "</table>\n",
       "</div>"
      ],
      "text/plain": [
       "        Terms       p_value\n",
       "1  Page Views  1.974764e-07\n",
       "2      Clicks  3.804647e-05\n",
       "3   DayOfWeek  2.299762e-01\n",
       "0  Experiment  8.634578e-01"
      ]
     },
     "execution_count": 18,
     "metadata": {},
     "output_type": "execute_result"
    }
   ],
   "source": [
    "pd.DataFrame(linearRegression.pvalues).reset_index()\\\n",
    ".rename(columns={'index':'Terms', 0:'p_value'}).sort_values('p_value')"
   ]
  },
  {
   "cell_type": "markdown",
   "id": "d8fa5eb5-d7db-400b-9982-9ba1069b1989",
   "metadata": {},
   "source": [
    "<a id=\"18\"></a> <br> \n",
    "# Model 2: Decision Tree"
   ]
  },
  {
   "cell_type": "code",
   "execution_count": 19,
   "id": "90e14995-3737-49bf-a6cc-20cbb3d61e62",
   "metadata": {},
   "outputs": [],
   "source": [
    "# Fitting the model\n",
    "decissionTreeRegressor = DecisionTreeRegressor(max_depth=5, min_samples_leaf =4, random_state=7)\n",
    "decissionTreeRegressor.fit(X_train_refined, y_train)\n",
    "# Predicting the model\n",
    "y_preds = decissionTreeRegressor.predict(X_test_refined)"
   ]
  },
  {
   "cell_type": "markdown",
   "id": "d7fbeae2",
   "metadata": {},
   "source": [
    "<p id= '19'><b><li>Metrices Predictions</li></b></p>"
   ]
  },
  {
   "cell_type": "code",
   "execution_count": 20,
   "id": "9add664d",
   "metadata": {},
   "outputs": [
    {
     "name": "stdout",
     "output_type": "stream",
     "text": [
      "RMSE Score: 26.8540034259326\n",
      "R2_Squared: -0.1892893660531696\n",
      "MAE Score: 21.78333333333333\n"
     ]
    }
   ],
   "source": [
    "calculateMetrics(y_test, y_preds)"
   ]
  },
  {
   "cell_type": "markdown",
   "id": "fade6bf9",
   "metadata": {},
   "source": [
    "<p id= '20'><b><li>Plotting the Predictions</li></b></p>"
   ]
  },
  {
   "cell_type": "code",
   "execution_count": 21,
   "id": "303ca0ec-63be-42ad-94b3-dd5ec8182062",
   "metadata": {},
   "outputs": [
    {
     "data": {
      "image/png": "[encoded data removed]",
      "text/plain": [
       "<Figure size 1080x720 with 1 Axes>"
      ]
     },
     "metadata": {
      "needs_background": "light"
     },
     "output_type": "display_data"
    }
   ],
   "source": [
    "plotPredcitions(y_test, y_preds, 'Decision Tree')"
   ]
  },
  {
   "cell_type": "markdown",
   "id": "f813ddc9",
   "metadata": {},
   "source": [
    "<p id= '21'><b><li>Decission Tree Value Graph</li></b></p>"
   ]
  },
  {
   "cell_type": "code",
   "execution_count": 22,
   "id": "11aaa078-bcec-40d8-b899-fcfe65ec9aad",
   "metadata": {},
   "outputs": [
    {
     "data": {
      "image/png": "[encoded data removed]",
      "text/plain": [
       "<Figure size 1440x720 with 1 Axes>"
      ]
     },
     "metadata": {
      "needs_background": "light"
     },
     "output_type": "display_data"
    }
   ],
   "source": [
    "plt.figure(figsize=(20, 10))\n",
    "tree.plot_tree(decissionTreeRegressor, \n",
    "               filled=True, rounded=True, \n",
    "               feature_names = X_train.columns,\n",
    "               fontsize=12)\n",
    "plt.show()"
   ]
  },
  {
   "cell_type": "markdown",
   "id": "8d80a373",
   "metadata": {},
   "source": [
    "<a id=\"22\"></a> <br> \n",
    "# Model 3: XGBoost"
   ]
  },
  {
   "cell_type": "code",
   "execution_count": 23,
   "id": "2071185c",
   "metadata": {},
   "outputs": [],
   "source": [
    "DM_train = xgb.DMatrix(data=X_train_refined,label=y_train)\n",
    "DM_test = xgb.DMatrix(data=X_test_refined,label=y_test)"
   ]
  },
  {
   "cell_type": "markdown",
   "id": "b58c3371",
   "metadata": {},
   "source": [
    "<p id ='23'><b><li>Setting Parameters</li></b></p>"
   ]
  },
  {
   "cell_type": "code",
   "execution_count": 24,
   "id": "7b0584a0",
   "metadata": {},
   "outputs": [],
   "source": [
    "xgb.set_config(verbosity=0)\n",
    "parameters = {\n",
    "    'max_depth': 6,\n",
    "    'objective': 'reg:squarederror',\n",
    "    'booster': 'gblinear',\n",
    "    'n_estimators': 1000,\n",
    "    'learning_rate': 0.2,\n",
    "    'gamma': 0.01,\n",
    "    'random_state': 7,\n",
    "    'subsample': 1.\n",
    "}"
   ]
  },
  {
   "cell_type": "markdown",
   "id": "f4652425",
   "metadata": {},
   "source": [
    "<p id ='24'><b><li>Fitting and Train the Model</li></b></p>"
   ]
  },
  {
   "cell_type": "code",
   "execution_count": 25,
   "id": "77213cb6",
   "metadata": {},
   "outputs": [],
   "source": [
    "xg_reg = xgb.train(params = parameters, dtrain=DM_train, num_boost_round=8)\n",
    "y_preds = xg_reg.predict(DM_test)"
   ]
  },
  {
   "cell_type": "markdown",
   "id": "ddba3331",
   "metadata": {},
   "source": [
    "<p id ='25'><b><li>Metrics Predictions</li></b></p>"
   ]
  },
  {
   "cell_type": "code",
   "execution_count": 26,
   "id": "645fdc90",
   "metadata": {},
   "outputs": [
    {
     "name": "stdout",
     "output_type": "stream",
     "text": [
      "RMSE Score: 20.298967362913974\n",
      "R2_Squared: 0.3204563691525716\n",
      "MAE Score: 18.10905303955078\n"
     ]
    }
   ],
   "source": [
    "calculateMetrics(y_test, y_preds)"
   ]
  },
  {
   "cell_type": "markdown",
   "id": "646b2304",
   "metadata": {},
   "source": [
    "<p id ='26'><b><li>Plotting the Predictions</li></b></p>"
   ]
  },
  {
   "cell_type": "code",
   "execution_count": 27,
   "id": "c2423659",
   "metadata": {},
   "outputs": [
    {
     "data": {
      "image/png": "[encoded data removed]",
      "text/plain": [
       "<Figure size 1080x720 with 1 Axes>"
      ]
     },
     "metadata": {
      "needs_background": "light"
     },
     "output_type": "display_data"
    }
   ],
   "source": [
    "plotPredcitions(y_test, y_preds, 'XGBoost')"
   ]
  },
  {
   "cell_type": "markdown",
   "id": "21a40efa",
   "metadata": {},
   "source": [
    "<center><h1> XGBoost wins as it's RMSE Score is low compare to other two models.</h1></center>"
   ]
  }
 ],
 "metadata": {
  "kernelspec": {
   "display_name": "Python 3 (ipykernel)",
   "language": "python",
   "name": "python3"
  },
  "language_info": {
   "codemirror_mode": {
    "name": "ipython",
    "version": 3
   },
   "file_extension": ".py",
   "mimetype": "text/x-python",
   "name": "python",
   "nbconvert_exporter": "python",
   "pygments_lexer": "ipython3",
   "version": "3.8.2"
  }
 },
 "nbformat": 4,
 "nbformat_minor": 5
}
